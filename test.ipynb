{
 "cells": [
  {
   "cell_type": "code",
   "execution_count": 1,
   "id": "61a9e1d6-b791-4851-ad57-a9bab990757c",
   "metadata": {},
   "outputs": [],
   "source": [
    "import pandas as pd\n",
    "import numpy as np\n",
    "import json\n",
    "\n",
    "\n",
    "from selenium.webdriver.chrome.options import Options\n",
    "from selenium import webdriver\n",
    "from tycoon.utils.airline_manager import login, route_stats, get_all_routes\n",
    "from tycoon.utils.store import get_hub_df\n",
    "from tycoon.utils.noway import find_seat_config\n",
    "from tycoon.utils.data import RouteStats"
   ]
  },
  {
   "cell_type": "code",
   "execution_count": 2,
   "id": "28b37b5c-1559-43a8-bcc6-f18581261843",
   "metadata": {},
   "outputs": [],
   "source": [
    "chrome_options = Options()\n",
    "chrome_options.add_argument(\"--window-size=1920x1080\")\n",
    "chrome_options.add_argument(\"--headless\")\n",
    "\n",
    "\n",
    "driver = webdriver.Chrome(options=chrome_options)"
   ]
  },
  {
   "cell_type": "code",
   "execution_count": 3,
   "id": "b3efcd7b-2543-4ee2-b275-eba307f29925",
   "metadata": {},
   "outputs": [],
   "source": [
    "# login(driver)"
   ]
  },
  {
   "cell_type": "code",
   "execution_count": 3,
   "id": "8ca3bbb0-b795-4f7c-af75-3e1984bad58b",
   "metadata": {},
   "outputs": [
    {
     "data": {
      "text/html": [
       "<div>\n",
       "<style scoped>\n",
       "    .dataframe tbody tr th:only-of-type {\n",
       "        vertical-align: middle;\n",
       "    }\n",
       "\n",
       "    .dataframe tbody tr th {\n",
       "        vertical-align: top;\n",
       "    }\n",
       "\n",
       "    .dataframe thead th {\n",
       "        text-align: right;\n",
       "    }\n",
       "</style>\n",
       "<table border=\"1\" class=\"dataframe\">\n",
       "  <thead>\n",
       "    <tr style=\"text-align: right;\">\n",
       "      <th></th>\n",
       "      <th>hub</th>\n",
       "      <th>destination</th>\n",
       "      <th>type</th>\n",
       "      <th>economy_demand</th>\n",
       "      <th>economy_remaining_demand</th>\n",
       "      <th>economy_price</th>\n",
       "      <th>business_demand</th>\n",
       "      <th>business_remaining_demand</th>\n",
       "      <th>business_price</th>\n",
       "      <th>first_demand</th>\n",
       "      <th>...</th>\n",
       "      <th>cargo_remaining_demand</th>\n",
       "      <th>cargo_price</th>\n",
       "      <th>aircraft_make</th>\n",
       "      <th>aircraft_model</th>\n",
       "      <th>wave_stats</th>\n",
       "      <th>created_at</th>\n",
       "      <th>updated_at</th>\n",
       "      <th>scheduled_flights_count</th>\n",
       "      <th>raw_stat</th>\n",
       "      <th>error</th>\n",
       "    </tr>\n",
       "  </thead>\n",
       "  <tbody>\n",
       "    <tr>\n",
       "      <th>4</th>\n",
       "      <td>NGO</td>\n",
       "      <td>AHB</td>\n",
       "      <td>NaN</td>\n",
       "      <td>2871</td>\n",
       "      <td>-1389</td>\n",
       "      <td>2980</td>\n",
       "      <td>463</td>\n",
       "      <td>-209</td>\n",
       "      <td>3963</td>\n",
       "      <td>144</td>\n",
       "      <td>...</td>\n",
       "      <td>325</td>\n",
       "      <td>10262</td>\n",
       "      <td>NaN</td>\n",
       "      <td>NaN</td>\n",
       "      <td>NaN</td>\n",
       "      <td>2022-08-28 01:03:03.744680</td>\n",
       "      <td>2022-08-28 01:03:03.744680</td>\n",
       "      <td>6.0</td>\n",
       "      <td>{\"economy\": {\"price\": \"2980\", \"demand\": \"2871\"...</td>\n",
       "      <td>NaN</td>\n",
       "    </tr>\n",
       "  </tbody>\n",
       "</table>\n",
       "<p>1 rows × 23 columns</p>\n",
       "</div>"
      ],
      "text/plain": [
       "   hub destination  type  economy_demand  economy_remaining_demand  \\\n",
       "4  NGO         AHB   NaN            2871                     -1389   \n",
       "\n",
       "   economy_price  business_demand  business_remaining_demand  business_price  \\\n",
       "4           2980              463                       -209            3963   \n",
       "\n",
       "   first_demand  ...  cargo_remaining_demand  cargo_price  aircraft_make  \\\n",
       "4           144  ...                     325        10262            NaN   \n",
       "\n",
       "   aircraft_model  wave_stats                  created_at  \\\n",
       "4             NaN         NaN  2022-08-28 01:03:03.744680   \n",
       "\n",
       "                   updated_at  scheduled_flights_count  \\\n",
       "4  2022-08-28 01:03:03.744680                      6.0   \n",
       "\n",
       "                                            raw_stat error  \n",
       "4  {\"economy\": {\"price\": \"2980\", \"demand\": \"2871\"...   NaN  \n",
       "\n",
       "[1 rows x 23 columns]"
      ]
     },
     "execution_count": 3,
     "metadata": {},
     "output_type": "execute_result"
    }
   ],
   "source": [
    "df = get_hub_df(\"NGO\")\n",
    "df[df[\"destination\"] == \"AHB\"]"
   ]
  },
  {
   "cell_type": "code",
   "execution_count": 21,
   "id": "1827ea3f-a813-4f11-97c8-9396bc49724d",
   "metadata": {},
   "outputs": [
    {
     "data": {
      "text/plain": [
       "RouteStats(economy=RouteStat(price='2980', demand='2871', remaining_demand='-1389'), business=RouteStat(price='3963', demand='463', remaining_demand='-209'), first=RouteStat(price='6853', demand='144', remaining_demand='-72'), cargo=RouteStat(price='10262', demand='589', remaining_demand='325'), category=10, distance=9227, scheduled_flights=[ScheduledAircraftConfig(model='747-400', seat_config='429 (355/56/18)', result='22873546'), ScheduledAircraftConfig(model='747-400', seat_config='429 (355/56/18)', result='22873546'), ScheduledAircraftConfig(model='747-400', seat_config='429 (355/56/18)', result='22873546'), ScheduledAircraftConfig(model='747-400', seat_config='429 (355/56/18)', result='22873546'), ScheduledAircraftConfig(model='747-400', seat_config='429 (355/56/18)', result='22873546'), ScheduledAircraftConfig(model='747-400', seat_config='429 (355/56/18)', result='22873546')], wave_stats={})"
      ]
     },
     "execution_count": 21,
     "metadata": {},
     "output_type": "execute_result"
    }
   ],
   "source": [
    "route_stats = RouteStats.from_json(\n",
    "    df.loc[df[\"destination\"] == \"AHB\", \"raw_stat\"].values[0]\n",
    ")\n",
    "route_stats"
   ]
  },
  {
   "cell_type": "code",
   "execution_count": 25,
   "id": "d69ddf46-0151-43b9-9ec3-d7af482d5e31",
   "metadata": {},
   "outputs": [
    {
     "data": {
      "text/plain": [
       "'{\"economy\": {\"price\": \"2980\", \"demand\": \"2871\", \"remaining_demand\": \"-1389\"}, \"business\": {\"price\": \"3963\", \"demand\": \"463\", \"remaining_demand\": \"-209\"}, \"first\": {\"price\": \"6853\", \"demand\": \"144\", \"remaining_demand\": \"-72\"}, \"cargo\": {\"price\": \"10262\", \"demand\": \"589\", \"remaining_demand\": \"325\"}, \"category\": 10, \"distance\": 9227, \"scheduled_flights\": [{\"model\": \"747-400\", \"seat_config\": \"429 (355/56/18)\", \"result\": \"22873546\"}, {\"model\": \"747-400\", \"seat_config\": \"429 (355/56/18)\", \"result\": \"22873546\"}, {\"model\": \"747-400\", \"seat_config\": \"429 (355/56/18)\", \"result\": \"22873546\"}, {\"model\": \"747-400\", \"seat_config\": \"429 (355/56/18)\", \"result\": \"22873546\"}, {\"model\": \"747-400\", \"seat_config\": \"429 (355/56/18)\", \"result\": \"22873546\"}, {\"model\": \"747-400\", \"seat_config\": \"429 (355/56/18)\", \"result\": \"22873546\"}]}'"
      ]
     },
     "execution_count": 25,
     "metadata": {},
     "output_type": "execute_result"
    }
   ],
   "source": [
    "dest_idx = df[df[\"destination\"] == \"AHB\"].index[0]\n",
    "df.loc[dest_idx, \"raw_stat\"]"
   ]
  },
  {
   "cell_type": "code",
   "execution_count": 6,
   "id": "c933418d-bc53-4eb5-894c-4f23c4d3300c",
   "metadata": {},
   "outputs": [
    {
     "name": "stderr",
     "output_type": "stream",
     "text": [
      "ERROR:root:No config for wave: 6\n"
     ]
    }
   ],
   "source": [
    "route_stats = find_seat_config(\n",
    "    driver, \"NGO\", \"AHB\", \"Airbus\", \"A380-800\", route_stats, no_negative=True\n",
    ")"
   ]
  },
  {
   "cell_type": "code",
   "execution_count": 20,
   "id": "ee6e6bef-25e1-4ab7-88ee-055f13f9b6ea",
   "metadata": {},
   "outputs": [
    {
     "data": {
      "text/plain": [
       "WaveStat(no=4, economy=355, business=56, first=18, cargo=44, turnover_per_wave=3840000.0, roi=0.83, total_turnover=15370000.0, turnover_days=120, max_configured='88.22%')"
      ]
     },
     "execution_count": 20,
     "metadata": {},
     "output_type": "execute_result"
    }
   ],
   "source": [
    "route_stats.wave_stats[list(route_stats.wave_stats.keys())[-2]]"
   ]
  },
  {
   "cell_type": "code",
   "execution_count": null,
   "id": "8eec5390-ef80-4030-a931-b2f430288753",
   "metadata": {},
   "outputs": [],
   "source": [
    "df[df[\"destination\"] == \"AHB\"]"
   ]
  },
  {
   "cell_type": "code",
   "execution_count": null,
   "id": "1bec6715-bd55-4f30-aa43-66095e4a62ef",
   "metadata": {},
   "outputs": [],
   "source": []
  }
 ],
 "metadata": {
  "kernelspec": {
   "display_name": "Python 3 (ipykernel)",
   "language": "python",
   "name": "python3"
  },
  "language_info": {
   "codemirror_mode": {
    "name": "ipython",
    "version": 3
   },
   "file_extension": ".py",
   "mimetype": "text/x-python",
   "name": "python",
   "nbconvert_exporter": "python",
   "pygments_lexer": "ipython3",
   "version": "3.9.10"
  }
 },
 "nbformat": 4,
 "nbformat_minor": 5
}
